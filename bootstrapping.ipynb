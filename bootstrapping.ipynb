{
 "metadata": {
  "language_info": {
   "codemirror_mode": {
    "name": "ipython",
    "version": 3
   },
   "file_extension": ".py",
   "mimetype": "text/x-python",
   "name": "python",
   "nbconvert_exporter": "python",
   "pygments_lexer": "ipython3",
   "version": "3.7.10"
  },
  "orig_nbformat": 2,
  "kernelspec": {
   "name": "python3710jvsc74a57bd082794c3b7bd0fb20faa95f916ea95216995e10ed97810ccbb414beeaae9b8020",
   "display_name": "Python 3.7.10 64-bit ('keras-env': conda)"
  }
 },
 "nbformat": 4,
 "nbformat_minor": 2,
 "cells": [
  {
   "cell_type": "code",
   "execution_count": 1,
   "metadata": {},
   "outputs": [],
   "source": [
    "import numpy as np"
   ]
  },
  {
   "cell_type": "code",
   "execution_count": 2,
   "metadata": {},
   "outputs": [
    {
     "output_type": "execute_result",
     "data": {
      "text/plain": [
       "array([0.61182945, 0.03314666, 0.17107105, 0.80426673, 0.74837373,\n",
       "       0.63452396, 0.18425724, 0.80588361, 0.4130049 , 0.28449416])"
      ]
     },
     "metadata": {},
     "execution_count": 2
    }
   ],
   "source": [
    "n = 10\n",
    "data = np.random.rand(n)\n",
    "data"
   ]
  },
  {
   "cell_type": "code",
   "execution_count": 3,
   "metadata": {},
   "outputs": [],
   "source": [
    "def bootstrapping(data):\n",
    "    data = data.copy().tolist()\n",
    "    n = len(data)\n",
    "    train_set = []\n",
    "    for _ in range(n):\n",
    "        index = np.random.randint(1, high=n)\n",
    "        train_set.append(data[index])\n",
    "\n",
    "    for elem in data:\n",
    "        if elem in train_set:\n",
    "            data.remove(elem)\n",
    "\n",
    "    return np.array(train_set), np.array(data)\n",
    "        "
   ]
  },
  {
   "cell_type": "code",
   "execution_count": 4,
   "metadata": {},
   "outputs": [
    {
     "output_type": "stream",
     "name": "stdout",
     "text": [
      "train set: [0.80588361 0.28449416 0.80426673 0.18425724 0.03314666 0.80426673\n 0.63452396 0.17107105 0.18425724 0.4130049 ]\ntest set: [0.61182945 0.17107105 0.74837373 0.18425724 0.4130049 ]\ntest / (train + test) = 0.3333333333333333\n"
     ]
    }
   ],
   "source": [
    "train, test = bootstrapping(data)\n",
    "print(f\"train set: {train}\")\n",
    "print(f\"test set: {test}\")\n",
    "print(f\"test / (train + test) = {test.shape[0] / (train.shape[0] + test.shape[0])}\")"
   ]
  },
  {
   "cell_type": "code",
   "execution_count": null,
   "metadata": {},
   "outputs": [],
   "source": []
  }
 ]
}