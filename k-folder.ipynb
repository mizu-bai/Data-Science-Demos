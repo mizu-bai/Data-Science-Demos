{
 "metadata": {
  "language_info": {
   "codemirror_mode": {
    "name": "ipython",
    "version": 3
   },
   "file_extension": ".py",
   "mimetype": "text/x-python",
   "name": "python",
   "nbconvert_exporter": "python",
   "pygments_lexer": "ipython3",
   "version": "3.7.10"
  },
  "orig_nbformat": 2,
  "kernelspec": {
   "name": "python3710jvsc74a57bd082794c3b7bd0fb20faa95f916ea95216995e10ed97810ccbb414beeaae9b8020",
   "display_name": "Python 3.7.10 64-bit ('keras-env': conda)"
  }
 },
 "nbformat": 4,
 "nbformat_minor": 2,
 "cells": [
  {
   "cell_type": "code",
   "execution_count": 72,
   "metadata": {},
   "outputs": [],
   "source": [
    "# set up\n",
    "import numpy as np"
   ]
  },
  {
   "cell_type": "code",
   "execution_count": 78,
   "metadata": {},
   "outputs": [
    {
     "output_type": "execute_result",
     "data": {
      "text/plain": [
       "array([0.93027966, 0.80151812, 0.77722415, 0.57712115, 0.52406815,\n",
       "       0.55154155, 0.30512195, 0.27383405, 0.67401554, 0.34097752])"
      ]
     },
     "metadata": {},
     "execution_count": 78
    }
   ],
   "source": [
    "data = np.random.rand(10)\n",
    "data"
   ]
  },
  {
   "cell_type": "code",
   "execution_count": 91,
   "metadata": {},
   "outputs": [],
   "source": [
    "def k_folder(data, k):\n",
    "    data_split = np.split(data, k)\n",
    "    train_set = []\n",
    "    test_set = []\n",
    "\n",
    "    for i in range(0, k):\n",
    "        train = [data_split[j] if j != i else np.array([]) for j in range(0, k)]\n",
    "        train = np.hstack(train)\n",
    "        test = data_split[i]\n",
    "        train_set.append(train)\n",
    "        test_set.append(test)\n",
    "\n",
    "    return np.array(train_set), np.array(test_set)"
   ]
  },
  {
   "cell_type": "code",
   "execution_count": 97,
   "metadata": {},
   "outputs": [
    {
     "output_type": "stream",
     "name": "stdout",
     "text": [
      "0:\ntrain: [0.80151812 0.77722415 0.57712115 0.52406815 0.55154155 0.30512195\n 0.27383405 0.67401554 0.34097752]\ntest: [0.93027966]\n1:\ntrain: [0.93027966 0.77722415 0.57712115 0.52406815 0.55154155 0.30512195\n 0.27383405 0.67401554 0.34097752]\ntest: [0.80151812]\n2:\ntrain: [0.93027966 0.80151812 0.57712115 0.52406815 0.55154155 0.30512195\n 0.27383405 0.67401554 0.34097752]\ntest: [0.77722415]\n3:\ntrain: [0.93027966 0.80151812 0.77722415 0.52406815 0.55154155 0.30512195\n 0.27383405 0.67401554 0.34097752]\ntest: [0.57712115]\n4:\ntrain: [0.93027966 0.80151812 0.77722415 0.57712115 0.55154155 0.30512195\n 0.27383405 0.67401554 0.34097752]\ntest: [0.52406815]\n"
     ]
    }
   ],
   "source": [
    "train, test = k_folder(data, k=10)\n",
    "for i in range(0, k):\n",
    "    print(f\"{i}:\")\n",
    "    print(f\"train: {train[i]}\")\n",
    "    print(f\"test: {test[i]}\")"
   ]
  },
  {
   "cell_type": "code",
   "execution_count": null,
   "metadata": {},
   "outputs": [],
   "source": []
  }
 ]
}